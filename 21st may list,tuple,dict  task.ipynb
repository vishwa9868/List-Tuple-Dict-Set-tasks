{
 "cells": [
  {
   "cell_type": "markdown",
   "id": "e4c21d11",
   "metadata": {},
   "source": [
    "# List,Tuples,Dict,Set Tasks"
   ]
  },
  {
   "cell_type": "code",
   "execution_count": null,
   "id": "a5e707a8",
   "metadata": {},
   "outputs": [],
   "source": []
  },
  {
   "cell_type": "code",
   "execution_count": 25,
   "id": "06cf57f3",
   "metadata": {},
   "outputs": [],
   "source": [
    "l=[3,4,5,6,7, [23,456,67,8,78,78],[345,56,87,8,98,9],(234,6657,6),{\"key1\" :\"sudh\" , 234:[23,45,656]}]"
   ]
  },
  {
   "cell_type": "code",
   "execution_count": 26,
   "id": "eb3c6f88",
   "metadata": {},
   "outputs": [
    {
     "data": {
      "text/plain": [
       "[23, 45, 656]"
      ]
     },
     "execution_count": 26,
     "metadata": {},
     "output_type": "execute_result"
    }
   ],
   "source": [
    "l[8][234]"
   ]
  },
  {
   "cell_type": "markdown",
   "id": "4d3aad63",
   "metadata": {},
   "source": [
    "Try to reverse a list"
   ]
  },
  {
   "cell_type": "code",
   "execution_count": 5,
   "id": "91d27dfa",
   "metadata": {},
   "outputs": [
    {
     "data": {
      "text/plain": [
       "[{'key1': 'sudh', 234: [23, 45, 656]},\n",
       " (234, 6657, 6),\n",
       " [345, 56, 87, 8, 98, 9],\n",
       " [23, 456, 67, 8, 78, 78],\n",
       " 7,\n",
       " 6,\n",
       " 5,\n",
       " 4,\n",
       " 3]"
      ]
     },
     "execution_count": 5,
     "metadata": {},
     "output_type": "execute_result"
    }
   ],
   "source": [
    "l[::-1]"
   ]
  },
  {
   "cell_type": "code",
   "execution_count": 16,
   "id": "e531d550",
   "metadata": {},
   "outputs": [],
   "source": [
    "l.reverse()"
   ]
  },
  {
   "cell_type": "code",
   "execution_count": 17,
   "id": "9a8d2459",
   "metadata": {},
   "outputs": [
    {
     "data": {
      "text/plain": [
       "[{'key1': 'sudh', 234: [23, 45, 656]},\n",
       " (234, 6657, 6),\n",
       " [345, 56, 87, 8, 98, 9],\n",
       " [23, 456, 67, 8, 78, 78],\n",
       " 7,\n",
       " 6,\n",
       " 5,\n",
       " 4,\n",
       " 3]"
      ]
     },
     "execution_count": 17,
     "metadata": {},
     "output_type": "execute_result"
    }
   ],
   "source": [
    "l"
   ]
  },
  {
   "cell_type": "markdown",
   "id": "ab9c6565",
   "metadata": {},
   "source": [
    "try to access 234 out of this list"
   ]
  },
  {
   "cell_type": "code",
   "execution_count": 2,
   "id": "2f700aa9",
   "metadata": {},
   "outputs": [],
   "source": [
    "l=[3,4,5,6,7, [23,456,67,8,78,78],[345,56,87,8,98,9],(234,6657,6),{\"key1\" :\"sudh\" , 234:[23,45,656]}]"
   ]
  },
  {
   "cell_type": "code",
   "execution_count": 3,
   "id": "1f6852f9",
   "metadata": {},
   "outputs": [
    {
     "data": {
      "text/plain": [
       "234"
      ]
     },
     "execution_count": 3,
     "metadata": {},
     "output_type": "execute_result"
    }
   ],
   "source": [
    "l[7][0]"
   ]
  },
  {
   "cell_type": "markdown",
   "id": "683771a8",
   "metadata": {},
   "source": [
    "Try to acces 456"
   ]
  },
  {
   "cell_type": "code",
   "execution_count": 4,
   "id": "1f2d859d",
   "metadata": {},
   "outputs": [
    {
     "data": {
      "text/plain": [
       "456"
      ]
     },
     "execution_count": 4,
     "metadata": {},
     "output_type": "execute_result"
    }
   ],
   "source": [
    "l[5][1]"
   ]
  },
  {
   "cell_type": "markdown",
   "id": "3f4973a8",
   "metadata": {},
   "source": [
    "Try to extrct all the value element from dict available in list"
   ]
  },
  {
   "cell_type": "code",
   "execution_count": 7,
   "id": "8b0d0fad",
   "metadata": {},
   "outputs": [
    {
     "data": {
      "text/plain": [
       "{'key1': 'sudh', 234: [23, 45, 656]}"
      ]
     },
     "execution_count": 7,
     "metadata": {},
     "output_type": "execute_result"
    }
   ],
   "source": [
    "l[8]"
   ]
  },
  {
   "cell_type": "markdown",
   "id": "431c484a",
   "metadata": {},
   "source": [
    "Try to exract only a list collection from list l"
   ]
  },
  {
   "cell_type": "code",
   "execution_count": 13,
   "id": "369c8d9b",
   "metadata": {},
   "outputs": [
    {
     "data": {
      "text/plain": [
       "[23, 456, 67, 8, 78, 78]"
      ]
     },
     "execution_count": 13,
     "metadata": {},
     "output_type": "execute_result"
    }
   ],
   "source": [
    "l[5]"
   ]
  },
  {
   "cell_type": "markdown",
   "id": "8ed4dbf0",
   "metadata": {},
   "source": [
    "Try to extract \"sudh\""
   ]
  },
  {
   "cell_type": "code",
   "execution_count": 15,
   "id": "47100550",
   "metadata": {},
   "outputs": [
    {
     "data": {
      "text/plain": [
       "'sudh'"
      ]
     },
     "execution_count": 15,
     "metadata": {},
     "output_type": "execute_result"
    }
   ],
   "source": [
    "l[8][\"key1\"]"
   ]
  },
  {
   "cell_type": "markdown",
   "id": "bfbaba4e",
   "metadata": {},
   "source": [
    "Try to list all the key in dict element available in list"
   ]
  },
  {
   "cell_type": "code",
   "execution_count": 18,
   "id": "cb1a7b62",
   "metadata": {},
   "outputs": [
    {
     "data": {
      "text/plain": [
       "dict_keys(['key1', 234])"
      ]
     },
     "execution_count": 18,
     "metadata": {},
     "output_type": "execute_result"
    }
   ],
   "source": [
    "l[8].keys()"
   ]
  },
  {
   "cell_type": "code",
   "execution_count": null,
   "id": "aa235546",
   "metadata": {},
   "outputs": [],
   "source": []
  }
 ],
 "metadata": {
  "kernelspec": {
   "display_name": "Python 3 (ipykernel)",
   "language": "python",
   "name": "python3"
  },
  "language_info": {
   "codemirror_mode": {
    "name": "ipython",
    "version": 3
   },
   "file_extension": ".py",
   "mimetype": "text/x-python",
   "name": "python",
   "nbconvert_exporter": "python",
   "pygments_lexer": "ipython3",
   "version": "3.9.12"
  }
 },
 "nbformat": 4,
 "nbformat_minor": 5
}
